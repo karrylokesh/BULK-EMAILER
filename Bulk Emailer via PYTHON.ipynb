{
 "cells": [
  {
   "cell_type": "markdown",
   "metadata": {},
   "source": [
    "# THE CODE HELPS TO SEND BULK EMAILS VIA PYTHON\n",
    "### Importing Pandas n SMTLIB"
   ]
  },
  {
   "cell_type": "code",
   "execution_count": 2,
   "metadata": {},
   "outputs": [],
   "source": [
    "import pandas as pd\n",
    "import smtplib"
   ]
  },
  {
   "cell_type": "markdown",
   "metadata": {},
   "source": [
    "### IMPORTING THE DATA IN WHICH EMAILS AND MATTER TO BE SENT ARE STORED."
   ]
  },
  {
   "cell_type": "code",
   "execution_count": 3,
   "metadata": {},
   "outputs": [
    {
     "data": {
      "text/html": [
       "<div>\n",
       "<style scoped>\n",
       "    .dataframe tbody tr th:only-of-type {\n",
       "        vertical-align: middle;\n",
       "    }\n",
       "\n",
       "    .dataframe tbody tr th {\n",
       "        vertical-align: top;\n",
       "    }\n",
       "\n",
       "    .dataframe thead th {\n",
       "        text-align: right;\n",
       "    }\n",
       "</style>\n",
       "<table border=\"1\" class=\"dataframe\">\n",
       "  <thead>\n",
       "    <tr style=\"text-align: right;\">\n",
       "      <th></th>\n",
       "      <th>Group</th>\n",
       "      <th>Member</th>\n",
       "      <th>Email</th>\n",
       "      <th>UPN</th>\n",
       "    </tr>\n",
       "  </thead>\n",
       "  <tbody>\n",
       "    <tr>\n",
       "      <th>0</th>\n",
       "      <td>SM 10009</td>\n",
       "      <td>threek01</td>\n",
       "      <td>parthsarathi.karry@7-11.com</td>\n",
       "      <td>abc123</td>\n",
       "    </tr>\n",
       "    <tr>\n",
       "      <th>1</th>\n",
       "      <td>SM10017</td>\n",
       "      <td>flighi03</td>\n",
       "      <td>sunayanalk@gmail.com</td>\n",
       "      <td>def456</td>\n",
       "    </tr>\n",
       "    <tr>\n",
       "      <th>2</th>\n",
       "      <td>SM 10022</td>\n",
       "      <td>ztasbu01</td>\n",
       "      <td>karrylokesh@gmail.com</td>\n",
       "      <td>ijk789</td>\n",
       "    </tr>\n",
       "    <tr>\n",
       "      <th>3</th>\n",
       "      <td>SM 10030</td>\n",
       "      <td>hatsue01</td>\n",
       "      <td>flyingforce@rediffmail.com</td>\n",
       "      <td>sde102</td>\n",
       "    </tr>\n",
       "    <tr>\n",
       "      <th>4</th>\n",
       "      <td>SM 10039</td>\n",
       "      <td>aynien01</td>\n",
       "      <td>bond2fly@yahoo.com</td>\n",
       "      <td>hjk765</td>\n",
       "    </tr>\n",
       "    <tr>\n",
       "      <th>5</th>\n",
       "      <td>cm 100049</td>\n",
       "      <td>Kiran</td>\n",
       "      <td>kiranbabudasari@gmail.com</td>\n",
       "      <td>bond007</td>\n",
       "    </tr>\n",
       "  </tbody>\n",
       "</table>\n",
       "</div>"
      ],
      "text/plain": [
       "       Group    Member                        Email      UPN\n",
       "0   SM 10009  threek01  parthsarathi.karry@7-11.com   abc123\n",
       "1    SM10017  flighi03         sunayanalk@gmail.com   def456\n",
       "2   SM 10022  ztasbu01        karrylokesh@gmail.com   ijk789\n",
       "3   SM 10030  hatsue01   flyingforce@rediffmail.com   sde102\n",
       "4   SM 10039  aynien01           bond2fly@yahoo.com   hjk765\n",
       "5  cm 100049     Kiran    kiranbabudasari@gmail.com  bond007"
      ]
     },
     "execution_count": 3,
     "metadata": {},
     "output_type": "execute_result"
    }
   ],
   "source": [
    "#reading the excel file from the source\n",
    "# put your file path R'D:/SEVENELEVEN here\n",
    "\n",
    "\n",
    "email_list=pd.read_excel(R'D:/SEVENELEVEN.xlsx')\n",
    "email_list.head(6)\n"
   ]
  },
  {
   "cell_type": "markdown",
   "metadata": {},
   "source": [
    "### CODE WHICH SENDS EMAIL TO MULTIPLE EMAIL IDS "
   ]
  },
  {
   "cell_type": "code",
   "execution_count": null,
   "metadata": {},
   "outputs": [
    {
     "name": "stdout",
     "output_type": "stream",
     "text": [
      "ENTER YOUR EMAILIDkarrylokesh@gmail.com\n"
     ]
    }
   ],
   "source": [
    "\"\"\"\n",
    "Change these to your credentials\n",
    "\n",
    "\"\"\"\n",
    "your_name='company name'\n",
    "your_email=input(str('ENTER YOUR EMAILID'))\n",
    "your_password=input(str(\"please enter your password\"))\n",
    "\n",
    "#if you are using something other than gmail\n",
    "#then change the smtp.gmail.com and 465 in the line below\n",
    "server=smtplib.SMTP_SSL('smtp.gmail.com',465)\n",
    "server.ehlo()\n",
    "server.login(your_email,your_password)\n",
    "\n",
    "#GET ALL THE VALUES FROM THE FILE\n",
    "all_names=email_list['Member']\n",
    "all_emails=email_list['Email']\n",
    "all_subjects='your UPN'\n",
    "all_messages=email_list['UPN']\n",
    "\n",
    "for ids in range(len(all_emails)):\n",
    "    #get each records name,email,subject and message\n",
    "    name=all_names[ids]\n",
    "    email=all_emails[ids]\n",
    "    subject=\"YOUR UPN\"\n",
    "    message=all_messages[ids]\n",
    "    \n",
    "    \n",
    "    #create email to send\n",
    "    full_email=('From:{0}<{1}>\\n' 'TO:{2}<{3}>\\n' 'subject: {4}\\n\\n''Hello {5} your UPN is {6}'.format(your_name,your_email,name,email,subject,name,message))\n",
    "    server.sendmail(your_email,[email],full_email)\n",
    "    print('Email to {} sucessfully sent!\\n\\n'.format(email))\n",
    "    #for error messageif any one email has not been sent\n",
    "server.close()"
   ]
  },
  {
   "cell_type": "code",
   "execution_count": null,
   "metadata": {},
   "outputs": [],
   "source": []
  }
 ],
 "metadata": {
  "kernelspec": {
   "display_name": "Python 3",
   "language": "python",
   "name": "python3"
  },
  "language_info": {
   "codemirror_mode": {
    "name": "ipython",
    "version": 3
   },
   "file_extension": ".py",
   "mimetype": "text/x-python",
   "name": "python",
   "nbconvert_exporter": "python",
   "pygments_lexer": "ipython3",
   "version": "3.7.3"
  }
 },
 "nbformat": 4,
 "nbformat_minor": 2
}
